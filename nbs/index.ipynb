{
 "cells": [
  {
   "cell_type": "code",
   "execution_count": null,
   "metadata": {},
   "outputs": [],
   "source": [
    "#| hide\n",
    "from microbeseq_nbdev_example.core import *"
   ]
  },
  {
   "cell_type": "markdown",
   "metadata": {},
   "source": [
    "# microbeseq_nbdev_example\n",
    "\n",
    "> This is the completed state of the example of microbeseq_nbdev_augment. It deploys the nbdev changes and implements a core notebook and a hello_world notebook. Each of these have a command line function which are described in `How to use`. In making your own package, it is recommended to remove `01_hello_world.ipynb`."
   ]
  },
  {
   "cell_type": "markdown",
   "metadata": {},
   "source": [
    "This file will become your README and also the index of your documentation."
   ]
  },
  {
   "cell_type": "markdown",
   "metadata": {},
   "source": [
    "## Install"
   ]
  },
  {
   "cell_type": "markdown",
   "metadata": {},
   "source": [
    "```sh\n",
    "pip install microbeseq_nbdev_example\n",
    "```"
   ]
  },
  {
   "cell_type": "markdown",
   "metadata": {},
   "source": [
    "## How to use"
   ]
  },
  {
   "cell_type": "markdown",
   "metadata": {},
   "source": [
    "Fill me in please! Don't forget code examples:"
   ]
  },
  {
   "cell_type": "code",
   "execution_count": null,
   "metadata": {},
   "outputs": [
    {
     "name": "stdout",
     "output_type": "stream",
     "text": [
      "usage: core_hello_world [-h] [--config_file CONFIG_FILE] name\n",
      "\n",
      "This will print Hello World! with your name\n",
      "\n",
      "positional arguments:\n",
      "  name                       Your name\n",
      "\n",
      "options:\n",
      "  -h, --help                 show this help message and exit\n",
      "  --config_file CONFIG_FILE  config file to set env vars from\n"
     ]
    }
   ],
   "source": [
    "! core_hello_world -h"
   ]
  },
  {
   "cell_type": "code",
   "execution_count": null,
   "metadata": {},
   "outputs": [
    {
     "name": "stdout",
     "output_type": "stream",
     "text": [
      "usage: hello_two_world [-h] [--name NAME] [--alternative_name ALTERNATIVE_NAME]\n",
      "                       [--config_file CONFIG_FILE]\n",
      "\n",
      "This will print Hello World! with your name\n",
      "\n",
      "options:\n",
      "  -h, --help                           show this help message and exit\n",
      "  --name NAME                          A name\n",
      "  --alternative_name ALTERNATIVE_NAME  An alternative name\n",
      "  --config_file CONFIG_FILE            config file to set env vars from\n"
     ]
    }
   ],
   "source": [
    "! hello_two_world -h"
   ]
  }
 ],
 "metadata": {
  "kernelspec": {
   "display_name": "python3",
   "language": "python",
   "name": "python3"
  }
 },
 "nbformat": 4,
 "nbformat_minor": 4
}
